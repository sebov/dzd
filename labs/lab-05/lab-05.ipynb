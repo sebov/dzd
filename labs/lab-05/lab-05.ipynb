{
 "cells": [
  {
   "cell_type": "markdown",
   "id": "a61d579f",
   "metadata": {
    "vscode": {
     "languageId": "plaintext"
    }
   },
   "source": [
    "# Lab 05 - Scalable Computations with the MapReduce Framework - Introduction\n",
    "\n",
    "During this lab we will explore the MapReduce computational model. It can be used to process large\n",
    "data sets in a distributed computing environment. The framework simplifies the process of developing\n",
    "parallel applications by abstracting the complexities of managing parallel tasks, data distribution,\n",
    "and fault tolerance."
   ]
  },
  {
   "cell_type": "markdown",
   "id": "1290793b",
   "metadata": {
    "vscode": {
     "languageId": "plaintext"
    }
   },
   "source": [
    "## 1. MapReduce Overview\n"
   ]
  },
  {
   "cell_type": "code",
   "execution_count": null,
   "id": "c740d887",
   "metadata": {},
   "outputs": [],
   "source": [
    "# write your code here\n"
   ]
  },
  {
   "cell_type": "markdown",
   "id": "b5eceb71",
   "metadata": {},
   "source": [
    "## 2. Introductory Examples\n",
    "\n",
    "There are several implementations/environments/platforms of the MapReduce framework available. You\n",
    "may want to explore and compare their features and performance. They will differ in terms of ease of\n",
    "setup and requirements. Some popular options include:\n",
    "\n",
    "- Apache Hadoop\n",
    "- Amazon EMR - a managed platform for running big data frameworks, such as Apache Hadoop or Apache\n",
    "  Spark\n",
    "- Google Dataproc - similar to Amazon EMR, but provided by Google Cloud Platform\n",
    "- ...\n",
    "\n",
    "For this lab, use the MapReduce implementation of your choice. For simplicity, you can use\n",
    "a Python library [mrjob](https://mrjob.readthedocs.io/en/latest/index.html) with local mode to run\n",
    "MapReduce locally without setting up a distributed cluster or HDFS environment."
   ]
  },
  {
   "cell_type": "markdown",
   "id": "aaf2a3be",
   "metadata": {},
   "source": [
    "### 2.1 Word Count Example\n",
    "\n",
    "Let's start with the classic \"Word Count\" example. It is considered the \"Hello World\" for MapReduce.\n",
    "The goal is to count the occurrences of each word in a given text file. E.g., given the input text\n",
    "\"hello world hello\" the output should be semantically equivalent to `{\"hello\": 2, \"world\": 1}`.\n",
    "\n",
    "Implement your solution to the stated problem. If you have decided to use `mrjob` library in local\n",
    "mode, you may need to prepare to prepare your solution in a separate file outside the notebook. Test\n",
    "your implementation by passing different text files."
   ]
  },
  {
   "cell_type": "markdown",
   "id": "b23f693d",
   "metadata": {},
   "source": [
    "### 2.2 Multiplying matrices and vectors"
   ]
  },
  {
   "cell_type": "markdown",
   "id": "1414ac05",
   "metadata": {},
   "source": [
    "### 2.3 Relational algebra"
   ]
  },
  {
   "cell_type": "markdown",
   "id": "69c2b72d",
   "metadata": {},
   "source": [
    "### 2.4 Matrices multiplication"
   ]
  }
 ],
 "metadata": {
  "kernelspec": {
   "display_name": ".venv",
   "language": "python",
   "name": "python3"
  },
  "language_info": {
   "codemirror_mode": {
    "name": "ipython",
    "version": 3
   },
   "file_extension": ".py",
   "mimetype": "text/x-python",
   "name": "python",
   "nbconvert_exporter": "python",
   "pygments_lexer": "ipython3",
   "version": "3.11.12"
  }
 },
 "nbformat": 4,
 "nbformat_minor": 5
}
