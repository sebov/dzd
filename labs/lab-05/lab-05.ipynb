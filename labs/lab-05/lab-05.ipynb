{
 "cells": [
  {
   "cell_type": "markdown",
   "id": "a61d579f",
   "metadata": {
    "vscode": {
     "languageId": "plaintext"
    }
   },
   "source": [
    "# Lab 05 - Scalable Computations with the MapReduce Framework - Introduction\n",
    "\n",
    "During this lab we will explore the MapReduce computational model. It can be used to process large\n",
    "data sets in a distributed computing environment. The framework simplifies the process of developing\n",
    "parallel applications by abstracting the complexities of managing parallel tasks, data distribution,\n",
    "and fault tolerance."
   ]
  }
 ],
 "metadata": {
  "kernelspec": {
   "display_name": ".venv",
   "language": "python",
   "name": "python3"
  },
  "language_info": {
   "codemirror_mode": {
    "name": "ipython",
    "version": 3
   },
   "file_extension": ".py",
   "mimetype": "text/x-python",
   "name": "python",
   "nbconvert_exporter": "python",
   "pygments_lexer": "ipython3",
   "version": "3.11.12"
  }
 },
 "nbformat": 4,
 "nbformat_minor": 5
}
