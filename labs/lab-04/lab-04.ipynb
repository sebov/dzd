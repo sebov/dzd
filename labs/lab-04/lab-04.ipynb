{
 "cells": [
  {
   "cell_type": "markdown",
   "id": "a61d579f",
   "metadata": {
    "vscode": {
     "languageId": "plaintext"
    }
   },
   "source": [
    "# Lab 04 - Similarity Search in Large Datasets - LSH with Shingling, MinHashing and Banding\n",
    "\n",
    "During this lab we will continue our study of Similarity Search in large datasets. This time, we\n",
    "will implement Locality-Sensitive Hashing (LSH) using Shingling, MinHashing, and Banding techniques\n",
    "to find similar text documents."
   ]
  },
  {
   "cell_type": "markdown",
   "id": "07679e3e",
   "metadata": {},
   "source": [
    "## 1. The Dataset\n",
    "\n",
    "For this lab, we will use "
   ]
  },
  {
   "cell_type": "markdown",
   "id": "fea0110f",
   "metadata": {},
   "source": [
    "## 2. Investigate the Dataset"
   ]
  },
  {
   "cell_type": "code",
   "execution_count": null,
   "id": "45020d34",
   "metadata": {},
   "outputs": [],
   "source": [
    "# write your code here\n"
   ]
  },
  {
   "cell_type": "markdown",
   "id": "3eac6212",
   "metadata": {},
   "source": [
    "## 3. Lab Preliminaries\n"
   ]
  },
  {
   "cell_type": "markdown",
   "id": "4d3cc0ba",
   "metadata": {},
   "source": [
    "### 3.1 Shingling"
   ]
  },
  {
   "cell_type": "markdown",
   "id": "ce0b82cc",
   "metadata": {},
   "source": [
    "### 3.2 MinHashing"
   ]
  },
  {
   "cell_type": "markdown",
   "id": "ef5e2965",
   "metadata": {},
   "source": [
    "### 3.3 Banding and Locality-Sensitive Hashing (LSH)"
   ]
  },
  {
   "cell_type": "markdown",
   "id": "d6077407",
   "metadata": {},
   "source": [
    "## 4. Approximate Nearest Neighbors Search with LSH for Text Documents"
   ]
  },
  {
   "cell_type": "markdown",
   "id": "1c4553da",
   "metadata": {},
   "source": []
  }
 ],
 "metadata": {
  "kernelspec": {
   "display_name": ".venv",
   "language": "python",
   "name": "python3"
  },
  "language_info": {
   "codemirror_mode": {
    "name": "ipython",
    "version": 3
   },
   "file_extension": ".py",
   "mimetype": "text/x-python",
   "name": "python",
   "nbconvert_exporter": "python",
   "pygments_lexer": "ipython3",
   "version": "3.11.12"
  }
 },
 "nbformat": 4,
 "nbformat_minor": 5
}
