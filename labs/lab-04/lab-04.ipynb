{
 "cells": [
  {
   "cell_type": "markdown",
   "id": "a61d579f",
   "metadata": {
    "vscode": {
     "languageId": "plaintext"
    }
   },
   "source": [
    "# Lab 04 - Similarity Search in Large Datasets - LSH with Shingling, MinHashing and Banding\n",
    "\n",
    "During this lab we will continue our study of Similarity Search in large datasets. This time, we\n",
    "will implement Locality-Sensitive Hashing (LSH) using Shingling, MinHashing, and Banding techniques\n",
    "to find similar text documents."
   ]
  }
 ],
 "metadata": {
  "kernelspec": {
   "display_name": ".venv",
   "language": "python",
   "name": "python3"
  },
  "language_info": {
   "codemirror_mode": {
    "name": "ipython",
    "version": 3
   },
   "file_extension": ".py",
   "mimetype": "text/x-python",
   "name": "python",
   "nbconvert_exporter": "python",
   "pygments_lexer": "ipython3",
   "version": "3.11.12"
  }
 },
 "nbformat": 4,
 "nbformat_minor": 5
}
