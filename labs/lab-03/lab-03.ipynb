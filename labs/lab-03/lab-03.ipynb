{
 "cells": [
  {
   "cell_type": "markdown",
   "id": "a61d579f",
   "metadata": {
    "vscode": {
     "languageId": "plaintext"
    }
   },
   "source": [
    "# Lab 03 - Similarity Search in Large Datasets - Locality-Sensitive Hashing (LSH) with Random Projection\n",
    "\n",
    "During this lab we will study the concept of Similarity Search in large datasets. In particular, we\n",
    "will implement a simple version of Locality-Sensitive Hashing (LSH) using Random Projection.\n",
    "\n",
    "LSH is a popular technique for approximate nearest neighbor search in hight-dimensional spaces. The\n",
    "main idea behind it is to hash the input items in such a way that similar items are mapped to the\n",
    "same buckets. \n",
    "\n",
    "This approach differs from traditional hashing techniques, which aim to minimize collisions between\n",
    "different items. Here, we want to maximize the probability of collision for items that are similar."
   ]
  },
  {
   "cell_type": "markdown",
   "id": "492f6e36",
   "metadata": {
    "vscode": {
     "languageId": "plaintext"
    }
   },
   "source": [
    "## 1. The Dataset\n",
    "\n",
    "We will use one of the datasets employed to evaluate algorithms for approximate nearest neighbor\n",
    "search as part of [ANN Benchmarks](https://ann-benchmarks.com/) initiative. \n",
    "\n",
    "Please download one of the GloVe variants from the above link or directly from the\n",
    "[GloVe](https://nlp.stanford.edu/projects/glove/) project page. Try to pick a larger dataset so that\n",
    "the benefits of LSH can be observed more clearly."
   ]
  },
  {
   "cell_type": "code",
   "execution_count": null,
   "id": "2a7f29d3",
   "metadata": {},
   "outputs": [],
   "source": [
    "# write your code here\n"
   ]
  }
 ],
 "metadata": {
  "kernelspec": {
   "display_name": "Python 3 (ipykernel)",
   "language": "python",
   "name": "python3"
  },
  "language_info": {
   "codemirror_mode": {
    "name": "ipython",
    "version": 3
   },
   "file_extension": ".py",
   "mimetype": "text/x-python",
   "name": "python",
   "nbconvert_exporter": "python",
   "pygments_lexer": "ipython3",
   "version": "3.11.12"
  }
 },
 "nbformat": 4,
 "nbformat_minor": 5
}
