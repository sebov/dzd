{
 "cells": [
  {
   "cell_type": "markdown",
   "id": "a61d579f",
   "metadata": {
    "vscode": {
     "languageId": "plaintext"
    }
   },
   "source": [
    "# Lab 03 - Similarity Search in Large Datasets - Locality-Sensitive Hashing (LSH) with Random Projection\n",
    "\n",
    "During this lab we will study the concept of Similarity Search in large datasets. In particular, we\n",
    "will implement a simple version of Locality-Sensitive Hashing (LSH) using Random Projection.\n",
    "\n",
    "LSH is a popular technique for approximate nearest neighbor search in high-dimensional spaces. The\n",
    "main idea behind it is to hash input items in such a way that similar items are more likely to be\n",
    "mapped to the same buckets. \n",
    "\n",
    "This approach differs from traditional hashing techniques, which aim to minimize collisions between\n",
    "different items. Here, we want to maximize the probability of collision for items that are similar."
   ]
  },
  {
   "cell_type": "markdown",
   "id": "492f6e36",
   "metadata": {
    "vscode": {
     "languageId": "plaintext"
    }
   },
   "source": [
    "## 1. The Dataset\n",
    "\n",
    "We will use one of the datasets employed to evaluate algorithms for approximate nearest neighbor\n",
    "search as part of [ANN Benchmarks](https://ann-benchmarks.com/) initiative. \n",
    "\n",
    "Download one of the GloVe variants from the above link. Alternatively, you can download the dataset\n",
    "directly from the [GloVe](https://nlp.stanford.edu/projects/glove/) project page. Try to pick as\n",
    "large a dataset version as possible to fully appreciate the benefits of LSH and to make the\n",
    "experiment more in the spirit of large-scale similarity search.\n",
    "\n",
    "See, Jeffrey Pennington, Richard Socher, and Christopher D. Manning. 2014. GloVe: Global Vectors for\n",
    "Word Representation [pdf](https://nlp.stanford.edu/pubs/glove.pdf) for more details about GloVe."
   ]
  },
  {
   "cell_type": "code",
   "execution_count": null,
   "id": "2a7f29d3",
   "metadata": {},
   "outputs": [],
   "source": [
    "# write your code here\n"
   ]
  },
  {
   "cell_type": "markdown",
   "id": "eb555427",
   "metadata": {},
   "source": [
    "## 2. Investigate the Dataset\n",
    "\n",
    "What type of dataset is it? What is the dimensionality? How many vectors does it contain? Can you\n",
    "fit the whole dataset in memory?"
   ]
  },
  {
   "cell_type": "code",
   "execution_count": null,
   "id": "414fa4c9",
   "metadata": {},
   "outputs": [],
   "source": [
    "# write your code here\n"
   ]
  },
  {
   "cell_type": "markdown",
   "id": "d1559b31",
   "metadata": {},
   "source": [
    "## 3. Similarity Search\n",
    "\n",
    "What is the preferred similarity metric for this dataset?\n",
    "\n",
    "What methods do you already know for performing similarity search? \n",
    "\n",
    "E.g., try brute-force, KD-Trees, Ball-Trees from `sklearn.neighbors` on a subset of the data. What\n",
    "is the subset size you can use to perform the computations in reasonable time? What are the\n",
    "complexities of these methods?\n",
    "\n",
    "You do not have to spend too much time on this section. Just get the feel of the problem and the\n",
    "main challenges associated with it."
   ]
  },
  {
   "cell_type": "code",
   "execution_count": null,
   "id": "fff8780c",
   "metadata": {},
   "outputs": [],
   "source": [
    "# write your code here\n"
   ]
  },
  {
   "cell_type": "markdown",
   "id": "04dfdf37",
   "metadata": {},
   "source": [
    "## 4. Approximate Nearest Neighbors with LSH\n",
    "\n",
    "Sometimes, it is acceptable to retrieve approximate nearest neighbors instead of the exact ones. In\n",
    "many applications, we are absolutely fine with getting neighbors that are approximately close to\n",
    "the query point if we can get them much faster.\n",
    "\n",
    "What type of errors can we observe when we retrieve approximate nearest neighbors? What are the\n",
    "interpretations of false positives and false negatives in this context?\n",
    "\n",
    "Implement LSH using Random Projection as described in the lectures:\n",
    "- http://www.mmds.org/ - Chapter 3 - Section 3.7.2 (Random Hyperplanes and the Cosine Distance),\n",
    "  3.7.3 (Sketches) - [pdf](http://infolab.stanford.edu/~ullman/mmds/ch3n.pdf)\n",
    "- https://en.wikipedia.org/wiki/Locality-sensitive_hashing - Random Projection\n",
    "\n",
    "Prepare your solution with the following guidelines:\n",
    "- implement a hash table using a bunch of `M` random hyperplanes, where each point in the dataset is \n",
    "  represented as an M-bit fingerprint, depending on which side of each hyperplane it lies\n",
    "- whenever a new query point arrives, compute its hash code and retrieve points from\n",
    "  -  option 1 - the exact-matching bucket\n",
    "  -  option 2 - the closest bucket (you can use Hamming distance to measure the closeness of\n",
    "     buckets)\n",
    "- you can use points from the retrieved buckets:\n",
    "  - option 1 - return all of them as approximate nearest neighbors\n",
    "  - option 2 - process them further to find the best neighbors among them, e.g., by computing\n",
    "    exact distances to the query point and returning the closest ones\n",
    "- you can utilize \"amplification\" technique and introduce `N` different hash tables based on `M`\n",
    "  random hyperplanes each to improve the results - e.g., you can combine the candidates retrieved\n",
    "  from different hash tables\n",
    "\n",
    "There is no single correct way to implement LSH. Experiment with different ideas and design\n",
    "choices.\n",
    "\n",
    "Test your results against the ground-truth nearest neighbors. If you have chosen a dataset\n",
    "provided by the ANN Benchmarks, you can use their ground-truth objects for evaluation. Otherwise,\n",
    "you can test your implementation on a small subset of the data where you can compute exact nearest\n",
    "neighbors using brute-force, KD-Trees, or Ball-Trees. What measures can you use to evaluate the\n",
    "quality?"
   ]
  },
  {
   "cell_type": "code",
   "execution_count": null,
   "id": "16278261",
   "metadata": {},
   "outputs": [],
   "source": [
    "# write your code here\n"
   ]
  }
 ],
 "metadata": {
  "kernelspec": {
   "display_name": ".venv",
   "language": "python",
   "name": "python3"
  },
  "language_info": {
   "codemirror_mode": {
    "name": "ipython",
    "version": 3
   },
   "file_extension": ".py",
   "mimetype": "text/x-python",
   "name": "python",
   "nbconvert_exporter": "python",
   "pygments_lexer": "ipython3",
   "version": "3.11.12"
  }
 },
 "nbformat": 4,
 "nbformat_minor": 5
}
