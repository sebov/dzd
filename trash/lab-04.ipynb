{
 "cells": [
  {
   "cell_type": "markdown",
   "id": "a61d579f",
   "metadata": {
    "vscode": {
     "languageId": "plaintext"
    }
   },
   "source": [
    "# Lab 04 - Similarity Search in Large Datasets - LSH with Shingling, MinHashing and Banding\n",
    "\n",
    "During this lab we will continue our study of Similarity Search in large datasets. This time, we\n",
    "will implement Locality-Sensitive Hashing (LSH) using Shingling, MinHashing, and Banding techniques\n",
    "to find similar text documents."
   ]
  },
  {
   "cell_type": "markdown",
   "id": "07679e3e",
   "metadata": {},
   "source": [
    "## 1. The Dataset\n",
    "\n",
    "For this lab, we will use "
   ]
  },
  {
   "cell_type": "markdown",
   "id": "fea0110f",
   "metadata": {},
   "source": [
    "## 2. Investigate the Dataset"
   ]
  },
  {
   "cell_type": "code",
   "execution_count": 33,
   "id": "45020d34",
   "metadata": {},
   "outputs": [],
   "source": [
    "# write your code here\n",
    "\n",
    "import datasets\n",
    "\n",
    "q = datasets.load_dataset(\"sentence-transformers/stsb\")\n",
    "# q = datasets.load_dataset('sdadas/sick_pl')\n",
    "# q = datasets.load_dataset('sentence-transformers/gooaq')\n",
    "# q = datasets.load_dataset('sentence-transformers/sts16')"
   ]
  },
  {
   "cell_type": "code",
   "execution_count": 34,
   "id": "ab5f6cf8",
   "metadata": {},
   "outputs": [
    {
     "data": {
      "text/plain": [
       "DatasetDict({\n",
       "    train: Dataset({\n",
       "        features: ['sentence1', 'sentence2', 'score'],\n",
       "        num_rows: 5749\n",
       "    })\n",
       "    validation: Dataset({\n",
       "        features: ['sentence1', 'sentence2', 'score'],\n",
       "        num_rows: 1500\n",
       "    })\n",
       "    test: Dataset({\n",
       "        features: ['sentence1', 'sentence2', 'score'],\n",
       "        num_rows: 1379\n",
       "    })\n",
       "})"
      ]
     },
     "execution_count": 34,
     "metadata": {},
     "output_type": "execute_result"
    }
   ],
   "source": [
    "q"
   ]
  },
  {
   "cell_type": "markdown",
   "id": "3eac6212",
   "metadata": {},
   "source": [
    "## 3. Lab Preliminaries\n"
   ]
  },
  {
   "cell_type": "markdown",
   "id": "4d3cc0ba",
   "metadata": {},
   "source": [
    "### 3.1 Shingling\n",
    "\n",
    "Shingling is the process of producing a list or set of contiguous subsequences (shingles) from a\n",
    "document. Shingles can consist of a predefined number of characters or words.\n",
    "\n",
    "E.g., for the sentence \"To be or not to be, that is the question\":\n",
    "- character 3-shingles: \"To \", \"o b\", \" be\", \"be \", \"e o\", ...\n",
    "- word 2-shingles: \"To be\", \"be or\", \"or not\", \"not to\", ...\n",
    "\n",
    "Shingles can be represented as strings (as above) or tuples of characters/words. There are also\n",
    "multiple valid ways to handle spaces, punctuation, capitalization, stop words, etc. The choice \n",
    "depends on the application.\n",
    "\n",
    "Prepare a modular and extensible implementation of shingling that allows you to easily change the\n",
    "way shingles are created. This includes different shingle types (character-based, word-based), the\n",
    "length of shingles, the result format (set or list), and different pre-processing options for\n",
    "handling spaces and punctuation, capitalization, stop words, etc. You can split the the process into\n",
    "two steps - tokenization and shingle creation, but other approaches are also acceptable. Be\n",
    "creative!"
   ]
  },
  {
   "cell_type": "code",
   "execution_count": null,
   "id": "975dff66",
   "metadata": {},
   "outputs": [],
   "source": [
    "# write your code here\n"
   ]
  },
  {
   "cell_type": "markdown",
   "id": "ce0b82cc",
   "metadata": {},
   "source": [
    "### 3.2 MinHashing"
   ]
  },
  {
   "cell_type": "markdown",
   "id": "ef5e2965",
   "metadata": {},
   "source": [
    "### 3.3 Banding and Locality-Sensitive Hashing (LSH)"
   ]
  },
  {
   "cell_type": "markdown",
   "id": "d6077407",
   "metadata": {},
   "source": [
    "## 4. Approximate Nearest Neighbors Search with LSH for Text Documents"
   ]
  },
  {
   "cell_type": "markdown",
   "id": "1c4553da",
   "metadata": {},
   "source": []
  }
 ],
 "metadata": {
  "kernelspec": {
   "display_name": ".venv",
   "language": "python",
   "name": "python3"
  },
  "language_info": {
   "codemirror_mode": {
    "name": "ipython",
    "version": 3
   },
   "file_extension": ".py",
   "mimetype": "text/x-python",
   "name": "python",
   "nbconvert_exporter": "python",
   "pygments_lexer": "ipython3",
   "version": "3.11.12"
  }
 },
 "nbformat": 4,
 "nbformat_minor": 5
}
